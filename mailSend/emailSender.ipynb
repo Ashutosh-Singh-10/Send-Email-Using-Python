{
 "cells": [
  {
   "cell_type": "code",
   "execution_count": 1,
   "id": "41f5853d",
   "metadata": {},
   "outputs": [],
   "source": [
    "from email.message import  EmailMessage\n",
    "import ssl\n",
    "import smtplib"
   ]
  },
  {
   "cell_type": "code",
   "execution_count": null,
   "id": "f5b55893",
   "metadata": {},
   "outputs": [],
   "source": [
    "def sendMail(email_receiver):\n",
    "    email_sender=\"yourMail@gmail.com\"     #This will be your mail from which you have generate the password\n",
    "    email_password='xyzXYZxyzXYZxyzX'    # HERE WILL BE YOUR password generated from google password\n",
    "    subject=\"Email Sending \"\n",
    "    body=\"Good Luck from Ashutosh Singh\"\n",
    "    em=EmailMessage()\n",
    "    em[\"From\"]=email_sender\n",
    "    em[\"To\"]=email_receiver\n",
    "    em['Subject']=subject\n",
    "    em.set_content(body)\n",
    "    context=ssl.create_default_context()\n",
    "    with smtplib.SMTP_SSL('smtp.gmail.com',465,context=context) as smtp:\n",
    "        smtp.login(email_sender,email_password)     \n",
    "        smtp.sendmail(email_sender,email_receiver,em.as_string())\n"
   ]
  }
 ],
 "metadata": {
  "kernelspec": {
   "display_name": "Python 3 (ipykernel)",
   "language": "python",
   "name": "python3"
  },
  "language_info": {
   "codemirror_mode": {
    "name": "ipython",
    "version": 3
   },
   "file_extension": ".py",
   "mimetype": "text/x-python",
   "name": "python",
   "nbconvert_exporter": "python",
   "pygments_lexer": "ipython3",
   "version": "3.10.4"
  }
 },
 "nbformat": 4,
 "nbformat_minor": 5
}
